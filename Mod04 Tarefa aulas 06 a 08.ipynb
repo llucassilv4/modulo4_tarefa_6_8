{
 "cells": [
  {
   "cell_type": "markdown",
   "metadata": {},
   "source": [
    "# Tarefa 03\n",
    "\n",
    "- Leia os enunciados com atenção\n",
    "- Saiba que pode haver mais de uma resposta correta\n",
    "- Insira novas células de código sempre que achar necessário\n",
    "- Em caso de dúvidas, procure os Tutores\n",
    "- Divirta-se :)"
   ]
  },
  {
   "cell_type": "code",
   "execution_count": 1,
   "metadata": {},
   "outputs": [],
   "source": [
    "import pandas as pd\n",
    "import requests\n",
    "import numpy as np"
   ]
  },
  {
   "cell_type": "markdown",
   "metadata": {},
   "source": [
    "####  1) Lendo de APIs\n",
    "Vimos em aula como carregar dados públicos do governo através de um API (*Application Programming Interface*). No exemplo de aula, baixamos os dados de pedidos de verificação de limites (PVL) realizados por estados, e selecionamos apenas aqueles referentes ao estado de São Paulo.\n",
    "\n",
    "1. Repita os mesmos passos feitos em aula, mas selecione os PVLs realizados por municípios no estado do Rio de Janeiro.\n",
    "2. Quais são os três *status* das solicitações mais frequentes na base? Quais são suas frequências?\n",
    "3. Construa uma nova variável que contenha o ano do **status**. Observe que ```data_status``` vem como tipo *object* no **DataFrame**. Dica: você pode usar o método ```.str``` para transformar o tipo da variável em string, em seguida um método como [**slice()**](https://pandas.pydata.org/docs/reference/api/pandas.Series.str.slice.html) ou [**split()**](https://pandas.pydata.org/pandas-docs/stable/reference/api/pandas.Series.str.split.html).\n",
    "4. Indique a frequência de cada ano do campo construído no item (3)."
   ]
  },
  {
   "cell_type": "code",
   "execution_count": 2,
   "metadata": {},
   "outputs": [
    {
     "data": {
      "text/html": [
       "<div>\n",
       "<style scoped>\n",
       "    .dataframe tbody tr th:only-of-type {\n",
       "        vertical-align: middle;\n",
       "    }\n",
       "\n",
       "    .dataframe tbody tr th {\n",
       "        vertical-align: top;\n",
       "    }\n",
       "\n",
       "    .dataframe thead th {\n",
       "        text-align: right;\n",
       "    }\n",
       "</style>\n",
       "<table border=\"1\" class=\"dataframe\">\n",
       "  <thead>\n",
       "    <tr style=\"text-align: right;\">\n",
       "      <th></th>\n",
       "      <th>id_pleito</th>\n",
       "      <th>tipo_interessado</th>\n",
       "      <th>interessado</th>\n",
       "      <th>cod_ibge</th>\n",
       "      <th>uf</th>\n",
       "      <th>num_pvl</th>\n",
       "      <th>status</th>\n",
       "      <th>num_processo</th>\n",
       "      <th>data_protocolo</th>\n",
       "      <th>tipo_operacao</th>\n",
       "      <th>finalidade</th>\n",
       "      <th>tipo_credor</th>\n",
       "      <th>credor</th>\n",
       "      <th>moeda</th>\n",
       "      <th>valor</th>\n",
       "      <th>pvl_assoc_divida</th>\n",
       "      <th>pvl_contradado_credor</th>\n",
       "      <th>data_status</th>\n",
       "    </tr>\n",
       "  </thead>\n",
       "  <tbody>\n",
       "    <tr>\n",
       "      <th>0</th>\n",
       "      <td>10478</td>\n",
       "      <td>Município</td>\n",
       "      <td>Duque de Caxias</td>\n",
       "      <td>3301702</td>\n",
       "      <td>RJ</td>\n",
       "      <td>None</td>\n",
       "      <td>Regularizado</td>\n",
       "      <td>17944.001209/2012-85</td>\n",
       "      <td>2020-04-13T03:00:00Z</td>\n",
       "      <td>Operação contratual interna</td>\n",
       "      <td>Regularização de Dívida - Outros</td>\n",
       "      <td>Instituição Financeira Nacional</td>\n",
       "      <td>Banco do Brasil S/A</td>\n",
       "      <td>Real</td>\n",
       "      <td>1.497683e+08</td>\n",
       "      <td>0</td>\n",
       "      <td>0</td>\n",
       "      <td>29/05/2020</td>\n",
       "    </tr>\n",
       "    <tr>\n",
       "      <th>1</th>\n",
       "      <td>47509</td>\n",
       "      <td>Município</td>\n",
       "      <td>Casimiro de Abreu</td>\n",
       "      <td>3301306</td>\n",
       "      <td>RJ</td>\n",
       "      <td>PVL02.002362/2021-58</td>\n",
       "      <td>Deferido</td>\n",
       "      <td>17944.103628/2021-41</td>\n",
       "      <td>2021-12-24T15:46:02Z</td>\n",
       "      <td>Operação contratual interna</td>\n",
       "      <td>Infraestrutura</td>\n",
       "      <td>Instituição Financeira Nacional</td>\n",
       "      <td>Caixa Econômica Federal</td>\n",
       "      <td>Real</td>\n",
       "      <td>2.900000e+07</td>\n",
       "      <td>0</td>\n",
       "      <td>0</td>\n",
       "      <td>28/12/2021</td>\n",
       "    </tr>\n",
       "    <tr>\n",
       "      <th>2</th>\n",
       "      <td>42271</td>\n",
       "      <td>Município</td>\n",
       "      <td>Barra do Piraí</td>\n",
       "      <td>3300308</td>\n",
       "      <td>RJ</td>\n",
       "      <td>PVL02.000610/2020-45</td>\n",
       "      <td>Encaminhado à PGFN com manifestação técnica fa...</td>\n",
       "      <td>17944.101579/2020-21</td>\n",
       "      <td>2020-07-21T14:33:51Z</td>\n",
       "      <td>Operação contratual interna (com garantia da U...</td>\n",
       "      <td>Infraestrutura</td>\n",
       "      <td>Instituição Financeira Nacional</td>\n",
       "      <td>Caixa Econômica Federal</td>\n",
       "      <td>Real</td>\n",
       "      <td>2.990000e+07</td>\n",
       "      <td>1</td>\n",
       "      <td>1</td>\n",
       "      <td>29/07/2020</td>\n",
       "    </tr>\n",
       "  </tbody>\n",
       "</table>\n",
       "</div>"
      ],
      "text/plain": [
       "   id_pleito tipo_interessado        interessado  cod_ibge  uf  \\\n",
       "0      10478        Município    Duque de Caxias   3301702  RJ   \n",
       "1      47509        Município  Casimiro de Abreu   3301306  RJ   \n",
       "2      42271        Município     Barra do Piraí   3300308  RJ   \n",
       "\n",
       "                num_pvl                                             status  \\\n",
       "0                  None                                       Regularizado   \n",
       "1  PVL02.002362/2021-58                                           Deferido   \n",
       "2  PVL02.000610/2020-45  Encaminhado à PGFN com manifestação técnica fa...   \n",
       "\n",
       "           num_processo        data_protocolo  \\\n",
       "0  17944.001209/2012-85  2020-04-13T03:00:00Z   \n",
       "1  17944.103628/2021-41  2021-12-24T15:46:02Z   \n",
       "2  17944.101579/2020-21  2020-07-21T14:33:51Z   \n",
       "\n",
       "                                       tipo_operacao  \\\n",
       "0                        Operação contratual interna   \n",
       "1                        Operação contratual interna   \n",
       "2  Operação contratual interna (com garantia da U...   \n",
       "\n",
       "                         finalidade                      tipo_credor  \\\n",
       "0  Regularização de Dívida - Outros  Instituição Financeira Nacional   \n",
       "1                    Infraestrutura  Instituição Financeira Nacional   \n",
       "2                    Infraestrutura  Instituição Financeira Nacional   \n",
       "\n",
       "                    credor moeda         valor  pvl_assoc_divida  \\\n",
       "0      Banco do Brasil S/A  Real  1.497683e+08                 0   \n",
       "1  Caixa Econômica Federal  Real  2.900000e+07                 0   \n",
       "2  Caixa Econômica Federal  Real  2.990000e+07                 1   \n",
       "\n",
       "   pvl_contradado_credor data_status  \n",
       "0                      0  29/05/2020  \n",
       "1                      0  28/12/2021  \n",
       "2                      1  29/07/2020  "
      ]
     },
     "execution_count": 2,
     "metadata": {},
     "output_type": "execute_result"
    }
   ],
   "source": [
    "# 1) Seu código aqui\n",
    "url = 'https://apidatalake.tesouro.gov.br/ords/sadipem/tt/pvl?uf=RJ&tipo_interessado=Munic%C3%ADpio'\n",
    "\n",
    "requests.get(url)\n",
    "r = requests.get(url)\n",
    "r.status_code\n",
    "\n",
    "r.json()\n",
    "data_json = r.json()\n",
    "# print(data_json['items'])\n",
    "\n",
    "df = pd.DataFrame(data_json['items'])\n",
    "df.head(3)"
   ]
  },
  {
   "cell_type": "code",
   "execution_count": 3,
   "metadata": {},
   "outputs": [
    {
     "data": {
      "text/plain": [
       "Deferido        96\n",
       "Arquivado       53\n",
       "Regularizado    26\n",
       "Name: status, dtype: int64"
      ]
     },
     "execution_count": 3,
     "metadata": {},
     "output_type": "execute_result"
    }
   ],
   "source": [
    "# 2) Seu código aqui\n",
    "df['status'].value_counts()\n",
    "# ou \n",
    "df.status.value_counts()\n",
    "# visualizar apenas os 3 primeiros\n",
    "df.status.value_counts().head(3)"
   ]
  },
  {
   "cell_type": "code",
   "execution_count": 4,
   "metadata": {},
   "outputs": [
    {
     "data": {
      "text/plain": [
       "0      2020\n",
       "1      2021\n",
       "2      2020\n",
       "3      2002\n",
       "4      2008\n",
       "       ... \n",
       "237    2020\n",
       "238    2019\n",
       "239    2008\n",
       "240    2022\n",
       "241    2023\n",
       "Name: ano, Length: 242, dtype: string"
      ]
     },
     "execution_count": 4,
     "metadata": {},
     "output_type": "execute_result"
    }
   ],
   "source": [
    "# 3) Seu código aqui\n",
    "df['data_status'] = df['data_status'].astype('string')\n",
    "df.dtypes\n",
    "df['ano'] = df['data_status'].str[6:]\n",
    "df['ano']"
   ]
  },
  {
   "cell_type": "code",
   "execution_count": 5,
   "metadata": {},
   "outputs": [
    {
     "data": {
      "text/html": [
       "<div>\n",
       "<style scoped>\n",
       "    .dataframe tbody tr th:only-of-type {\n",
       "        vertical-align: middle;\n",
       "    }\n",
       "\n",
       "    .dataframe tbody tr th {\n",
       "        vertical-align: top;\n",
       "    }\n",
       "\n",
       "    .dataframe thead th {\n",
       "        text-align: right;\n",
       "    }\n",
       "</style>\n",
       "<table border=\"1\" class=\"dataframe\">\n",
       "  <thead>\n",
       "    <tr style=\"text-align: right;\">\n",
       "      <th></th>\n",
       "      <th>id_pleito</th>\n",
       "      <th>tipo_interessado</th>\n",
       "      <th>interessado</th>\n",
       "      <th>cod_ibge</th>\n",
       "      <th>uf</th>\n",
       "      <th>num_pvl</th>\n",
       "      <th>status</th>\n",
       "      <th>num_processo</th>\n",
       "      <th>data_protocolo</th>\n",
       "      <th>tipo_operacao</th>\n",
       "      <th>finalidade</th>\n",
       "      <th>tipo_credor</th>\n",
       "      <th>credor</th>\n",
       "      <th>moeda</th>\n",
       "      <th>valor</th>\n",
       "      <th>pvl_assoc_divida</th>\n",
       "      <th>pvl_contradado_credor</th>\n",
       "      <th>data_status</th>\n",
       "      <th>ano</th>\n",
       "    </tr>\n",
       "  </thead>\n",
       "  <tbody>\n",
       "    <tr>\n",
       "      <th>0</th>\n",
       "      <td>10478</td>\n",
       "      <td>Município</td>\n",
       "      <td>Duque de Caxias</td>\n",
       "      <td>3301702</td>\n",
       "      <td>RJ</td>\n",
       "      <td>None</td>\n",
       "      <td>Regularizado</td>\n",
       "      <td>17944.001209/2012-85</td>\n",
       "      <td>2020-04-13T03:00:00Z</td>\n",
       "      <td>Operação contratual interna</td>\n",
       "      <td>Regularização de Dívida - Outros</td>\n",
       "      <td>Instituição Financeira Nacional</td>\n",
       "      <td>Banco do Brasil S/A</td>\n",
       "      <td>Real</td>\n",
       "      <td>1.497683e+08</td>\n",
       "      <td>0</td>\n",
       "      <td>0</td>\n",
       "      <td>29/05/2020</td>\n",
       "      <td>2020</td>\n",
       "    </tr>\n",
       "  </tbody>\n",
       "</table>\n",
       "</div>"
      ],
      "text/plain": [
       "   id_pleito tipo_interessado      interessado  cod_ibge  uf num_pvl  \\\n",
       "0      10478        Município  Duque de Caxias   3301702  RJ    None   \n",
       "\n",
       "         status          num_processo        data_protocolo  \\\n",
       "0  Regularizado  17944.001209/2012-85  2020-04-13T03:00:00Z   \n",
       "\n",
       "                 tipo_operacao                        finalidade  \\\n",
       "0  Operação contratual interna  Regularização de Dívida - Outros   \n",
       "\n",
       "                       tipo_credor               credor moeda         valor  \\\n",
       "0  Instituição Financeira Nacional  Banco do Brasil S/A  Real  1.497683e+08   \n",
       "\n",
       "   pvl_assoc_divida  pvl_contradado_credor data_status   ano  \n",
       "0                 0                      0  29/05/2020  2020  "
      ]
     },
     "execution_count": 5,
     "metadata": {},
     "output_type": "execute_result"
    }
   ],
   "source": [
    "df.head(1)"
   ]
  },
  {
   "cell_type": "markdown",
   "metadata": {},
   "source": [
    "####  2) Melhorando a interação com o API\n",
    "Observe dois URLs de consultas diferentes, por exemplo o URL utilizado em aula, e o URL feito no exercício anterior. Compare-os e observe as diferenças.\n",
    "\n",
    "1. Faça uma função em Python que recebe como argumento o UF da consulta e o tipo de interessado (```'Estado'```ou ```Município```), e que devolve os dados da consulta no formato *DataFrame*.\n",
    "2. Quantas solicitações para o Estado podem ser consultadas para Minas Gerais com *status* em 'Arquivado por decurso de prazo' estão registradas?\n",
    "3. Qual é o município da Bahia com mais solicitações deferidas?\n",
    "4. Salve um arquivo .csv com os dados de solicitações da Bahia, com interessado = 'Estado'"
   ]
  },
  {
   "cell_type": "code",
   "execution_count": 6,
   "metadata": {},
   "outputs": [],
   "source": [
    "#1) Seu código aqui\n",
    "# respondida"
   ]
  },
  {
   "cell_type": "code",
   "execution_count": 24,
   "metadata": {},
   "outputs": [
    {
     "data": {
      "text/plain": [
       "Arquivado por decurso de prazo    1\n",
       "Name: status, dtype: int64"
      ]
     },
     "execution_count": 24,
     "metadata": {},
     "output_type": "execute_result"
    }
   ],
   "source": [
    "# 2) Seu código aqui\n",
    "url = 'https://apidatalake.tesouro.gov.br/ords/sadipem/tt/pvl?uf=MG&tipo_interessado=Estado'\n",
    "r = requests.get(url)\n",
    "resposta = r.json()\n",
    "df = pd.DataFrame(resposta['items'])\n",
    "\n",
    "filtro = df.loc[df['status'] == 'Arquivado por decurso de prazo']\n",
    "filtro.status.value_counts()"
   ]
  },
  {
   "cell_type": "code",
   "execution_count": 55,
   "metadata": {},
   "outputs": [
    {
     "data": {
      "text/plain": [
       "interessado             status  \n",
       "Luís Eduardo Magalhães  Deferido    15\n",
       "Vitória da Conquista    Deferido    11\n",
       "Camaçari                Deferido    10\n",
       "Barreiras               Deferido    10\n",
       "Lauro de Freitas        Deferido    10\n",
       "                                    ..\n",
       "Malhada                 Deferido     1\n",
       "Licínio de Almeida      Deferido     1\n",
       "Lençóis                 Deferido     1\n",
       "Cardeal da Silva        Deferido     1\n",
       "Xique-Xique             Deferido     1\n",
       "Length: 179, dtype: int64"
      ]
     },
     "execution_count": 55,
     "metadata": {},
     "output_type": "execute_result"
    }
   ],
   "source": [
    "# 3) Seu código aqui\n",
    "r = requests.get('https://apidatalake.tesouro.gov.br/ords/sadipem/tt/pvl?uf=BA&tipo_interessado=Munic%C3%ADpio')\n",
    "resposta = r.json()\n",
    "df = pd.DataFrame(resposta['items'])\n",
    "\n",
    "deferido = df[df['status'] == 'Deferido']\n",
    "deferido[['interessado', 'status']].value_counts()\n",
    "#df.groupby('interessado')['status'].count()\n",
    "#df[['status', 'interessado']].value_counts()\n"
   ]
  },
  {
   "cell_type": "code",
   "execution_count": 58,
   "metadata": {},
   "outputs": [],
   "source": [
    "# 4) Seu código aqui\n",
    "r = requests.get('https://apidatalake.tesouro.gov.br/ords/sadipem/tt/pvl?uf=BA&tipo_interessado=Estado')\n",
    "resposta = r.json()\n",
    "\n",
    "df = pd.DataFrame(resposta['items'])\n",
    "df.to_csv('baseBahia.csv')"
   ]
  }
 ],
 "metadata": {
  "kernelspec": {
   "display_name": "Python 3 (ipykernel)",
   "language": "python",
   "name": "python3"
  },
  "language_info": {
   "codemirror_mode": {
    "name": "ipython",
    "version": 3
   },
   "file_extension": ".py",
   "mimetype": "text/x-python",
   "name": "python",
   "nbconvert_exporter": "python",
   "pygments_lexer": "ipython3",
   "version": "3.10.9"
  }
 },
 "nbformat": 4,
 "nbformat_minor": 4
}
